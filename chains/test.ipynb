{
 "cells": [
  {
   "cell_type": "code",
   "execution_count": 1,
   "metadata": {},
   "outputs": [],
   "source": [
    "from chain import Chain, identity, show, foldl, foldr"
   ]
  },
  {
   "cell_type": "code",
   "execution_count": 2,
   "metadata": {},
   "outputs": [
    {
     "data": {
      "text/plain": [
       "Chain(1 | identity >== λx -> x+1 >> print <| [identity, identity])"
      ]
     },
     "execution_count": 2,
     "metadata": {},
     "output_type": "execute_result"
    }
   ],
   "source": [
    "chain = 1 > Chain.do(identity) >> (lambda x: x+1) & print | (identity, identity)\n",
    "chain"
   ]
  },
  {
   "cell_type": "code",
   "execution_count": 3,
   "metadata": {},
   "outputs": [
    {
     "data": {
      "text/plain": [
       "Chain(<empty> | show <| [λx -> x+1, λx -> x*2, λx -> x/3] >== foldl(λa,b -> a+b))"
      ]
     },
     "execution_count": 3,
     "metadata": {},
     "output_type": "execute_result"
    }
   ],
   "source": [
    "def add(a,b):\n",
    "    return a+b\n",
    "\n",
    "Chain.do(show).map(lambda x: x+1, \n",
    "                   lambda x: x*2, \n",
    "                   lambda x: x/3)\\\n",
    "                .then(foldl(lambda a,b: a+b))"
   ]
  },
  {
   "cell_type": "code",
   "execution_count": 2,
   "metadata": {},
   "outputs": [
    {
     "name": "stdout",
     "output_type": "stream",
     "text": [
      "Chain(<empty> | identity <| [add, mul, div])\n",
      "Chain(<empty> | process)\n"
     ]
    }
   ],
   "source": [
    "def add(a):\n",
    "    def add(b):\n",
    "        return a+b\n",
    "    return add\n",
    "\n",
    "def mul(a):\n",
    "    def mul(b):\n",
    "        return a*b\n",
    "    return mul\n",
    "\n",
    "def div(a):\n",
    "    def div(b):\n",
    "        return a/b\n",
    "    return div\n",
    "\n",
    "chain1 = Chain.do(identity).map(add(1), mul(2), div(3))\n",
    "print(chain1)\n",
    "\n",
    "def process(t: tuple):\n",
    "    return (t[0], t[0]*2, t[1], t[2]*6, t[2])\n",
    "\n",
    "\n",
    "chain2 = chain1.do(process)\n",
    "print(chain2)\n",
    "\n",
    "chainx = lambda x: Chain.do(chain1.start(x).compute().result).then(chain2.start).then(lambda x: x.compute().result()).start(x).compute().result()"
   ]
  },
  {
   "cell_type": "code",
   "execution_count": 11,
   "metadata": {},
   "outputs": [
    {
     "data": {
      "text/plain": [
       "Chain(<empty> | identity >== identity <| [add, mul, div] >== process)"
      ]
     },
     "execution_count": 11,
     "metadata": {},
     "output_type": "execute_result"
    }
   ],
   "source": [
    "Chain.do(identity).glue(chain1).glue(chain2)"
   ]
  },
  {
   "cell_type": "code",
   "execution_count": 10,
   "metadata": {},
   "outputs": [],
   "source": [
    "r = chainx(1)"
   ]
  },
  {
   "cell_type": "code",
   "execution_count": 11,
   "metadata": {},
   "outputs": [
    {
     "data": {
      "text/plain": [
       "(2, 4, 2, 18.0, 3.0)"
      ]
     },
     "execution_count": 11,
     "metadata": {},
     "output_type": "execute_result"
    }
   ],
   "source": [
    "r"
   ]
  },
  {
   "cell_type": "code",
   "execution_count": 15,
   "metadata": {},
   "outputs": [],
   "source": [
    "def add_one(x):\n",
    "            return x + 1\n",
    "\n",
    "chain1 = Chain.do(lambda x: x).glue(Chain.do(add_one)).start(1).compute().result()\n",
    "#chain2 = Chain.do(add_one).compute().start(1).result()"
   ]
  },
  {
   "cell_type": "code",
   "execution_count": 5,
   "metadata": {},
   "outputs": [],
   "source": [
    "def printx(msg):\n",
    "    def _print(*args, **kwargs):\n",
    "        print(msg)\n",
    "    _print.__name__ = \"print\"\n",
    "    return _print\n",
    "\n",
    "def format_result(t):\n",
    "    name, last = t\n",
    "    return f\"Hello, {name} {last}!\""
   ]
  },
  {
   "cell_type": "code",
   "execution_count": 6,
   "metadata": {},
   "outputs": [
    {
     "data": {
      "text/plain": [
       "Chain(<empty> | print >== raw_input >> print <| [identity, raw_input] >== format_result >> print)"
      ]
     },
     "execution_count": 6,
     "metadata": {},
     "output_type": "execute_result"
    }
   ],
   "source": [
    "(Chain.do(printx(\"What's your first name?\"), action='run')\n",
    "      .then(input)\n",
    "      .run(printx(\"What's your last name?\"))\n",
    "      .map(identity, input)\n",
    "      .then(format_result)\n",
    "      .run(print))"
   ]
  },
  {
   "cell_type": "code",
   "execution_count": 23,
   "metadata": {},
   "outputs": [],
   "source": [
    "chain = (... > \n",
    "         (Chain.do(printx(\"What's your first name?\"), action='run') \n",
    "          >> input \n",
    "          & printx(\"What's your last name?\") \n",
    "          | (identity, input)) \n",
    "          >> format_result \n",
    "          & print)"
   ]
  },
  {
   "cell_type": "code",
   "execution_count": 24,
   "metadata": {},
   "outputs": [
    {
     "name": "stdout",
     "output_type": "stream",
     "text": [
      "What's your first name?\n",
      "What's your last name?\n",
      "Hello, Joan Gonzalez!\n"
     ]
    },
    {
     "data": {
      "text/plain": [
       "Chain(Hello, Joan Gonzalez! | <empty>)"
      ]
     },
     "execution_count": 24,
     "metadata": {},
     "output_type": "execute_result"
    }
   ],
   "source": [
    "chain.compute()"
   ]
  },
  {
   "cell_type": "code",
   "execution_count": 26,
   "metadata": {},
   "outputs": [
    {
     "data": {
      "text/plain": [
       "Chain(<empty> | show <| [λx -> x+1, λx -> x*2, λx -> x/3] >== foldl(λa,b -> a+b)))"
      ]
     },
     "execution_count": 26,
     "metadata": {},
     "output_type": "execute_result"
    }
   ],
   "source": [
    "def add(a,b):\n",
    "    return a+b\n",
    "\n",
    "Chain.do(show).map(lambda x: x+1, \n",
    "                   lambda x: x*2, \n",
    "                   lambda x: x/3)\\\n",
    "                .then(foldl(lambda a,b: a+b))"
   ]
  },
  {
   "cell_type": "code",
   "execution_count": 29,
   "metadata": {},
   "outputs": [
    {
     "data": {
      "text/plain": [
       "Chain(<empty> | show <| [λx -> x+1, λx -> x*2, λx -> x/3)] >== foldl(λa,b -> a+b))"
      ]
     },
     "execution_count": 29,
     "metadata": {},
     "output_type": "execute_result"
    }
   ],
   "source": [
    "((Chain.do(show) | (lambda x: x+1, \n",
    "                  lambda x: x*2, \n",
    "                  lambda x: x/3))\n",
    "                >> foldl(lambda a,b: a+b)\n",
    ")"
   ]
  },
  {
   "cell_type": "code",
   "execution_count": 122,
   "metadata": {},
   "outputs": [],
   "source": [
    "import ast\n",
    "\n",
    "def Try(f):\n",
    "    try:\n",
    "        return f()\n",
    "    except Exception as e:\n",
    "        return e\n",
    "\n",
    "\n",
    "def longest_lambda_substring(s):\n",
    "    longest_lambda = ''\n",
    "    for i in range(len(s), -1, -1):\n",
    "        for j in range(0, len(s) - i + 1):\n",
    "            substring = s[j:j+i]\n",
    "            result = Try(lambda: ast.parse(substring, mode='eval'))\n",
    "            \n",
    "            if isinstance(result, Exception):\n",
    "                continue\n",
    "\n",
    "            if isinstance(result.body, ast.Lambda) and len(substring) > len(longest_lambda):\n",
    "                longest_lambda = substring\n",
    "    return longest_lambda"
   ]
  },
  {
   "cell_type": "code",
   "execution_count": 125,
   "metadata": {},
   "outputs": [
    {
     "data": {
      "text/plain": [
       "'lambda x: (x,x)'"
      ]
     },
     "execution_count": 125,
     "metadata": {},
     "output_type": "execute_result"
    }
   ],
   "source": [
    "longest_lambda_substring('lambda x: (x,x)')"
   ]
  },
  {
   "cell_type": "code",
   "execution_count": 4,
   "metadata": {},
   "outputs": [
    {
     "data": {
      "text/plain": [
       "Chain(1 | identity <| [λx -> x >= 40), λx -> x*2, λx -> x/3] || [λx -> x+100, λx -> x*20, λx -> x/30] <$> λx -> x >= 40)"
      ]
     },
     "execution_count": 4,
     "metadata": {},
     "output_type": "execute_result"
    }
   ],
   "source": [
    "(Chain.do(identity).map(lambda x: x+1,\n",
    "                        lambda x: x*2,\n",
    "                        lambda x: x/3)\n",
    "                    .mapply(lambda x: x+100,\n",
    "                            lambda x: x*20,\n",
    "                            lambda x: x/30)\n",
    "                    .foreach(lambda x: x >= 40)\n",
    "                    .start(1))"
   ]
  },
  {
   "cell_type": "code",
   "execution_count": null,
   "metadata": {},
   "outputs": [],
   "source": []
  }
 ],
 "metadata": {
  "kernelspec": {
   "display_name": "Python 3",
   "language": "python",
   "name": "python3"
  },
  "language_info": {
   "codemirror_mode": {
    "name": "ipython",
    "version": 3
   },
   "file_extension": ".py",
   "mimetype": "text/x-python",
   "name": "python",
   "nbconvert_exporter": "python",
   "pygments_lexer": "ipython3",
   "version": "3.10.12"
  }
 },
 "nbformat": 4,
 "nbformat_minor": 2
}
